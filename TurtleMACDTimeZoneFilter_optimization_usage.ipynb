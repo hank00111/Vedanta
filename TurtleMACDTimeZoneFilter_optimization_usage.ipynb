{
 "cells": [
  {
   "cell_type": "markdown",
   "id": "734b7d99",
   "metadata": {},
   "source": [
    "# TurtleMACDTimeZoneFilter Multi_parameter_optimization_analysis 使用範例"
   ]
  },
  {
   "cell_type": "code",
   "execution_count": null,
   "id": "8e81b3aa",
   "metadata": {},
   "outputs": [
    {
     "name": "stderr",
     "output_type": "stream",
     "text": [
      "c:\\Users\\ricky\\AppData\\Local\\miniconda3\\envs\\Vedanta\\lib\\site-packages\\tqdm\\auto.py:21: TqdmWarning: IProgress not found. Please update jupyter and ipywidgets. See https://ipywidgets.readthedocs.io/en/stable/user_install.html\n",
      "  from .autonotebook import tqdm as notebook_tqdm\n"
     ]
    },
    {
     "name": "stdout",
     "output_type": "stream",
     "text": [
      "檢測到策略函數 get_signals 的參數: ['symbol', 'interval', 'end_time', 'limit', 'atr_period', 'fast_period', 'slow_period', 'signal_period', 'high_low_lookback', 'atr_multiplier_sl']\n",
      "檢測到策略函數參數: ['symbol', 'interval', 'end_time', 'limit', 'atr_period', 'fast_period', 'slow_period', 'signal_period', 'high_low_lookback', 'atr_multiplier_sl']\n",
      "開始靈活參數優化...\n",
      "複合指標方法: weighted\n",
      "權重配置: {'Sharpe Ratio': 0.4, 'Sortino Ratio': 0.4, 'Calmar Ratio': 0.2}\n",
      "門檻條件: {'Sharpe Ratio': 1.0, 'Sortino Ratio': 1.5, 'Calmar Ratio': 0.5}\n",
      "創建新資料庫: TurtleMACDTimeZoneFilter_optimization.db\n"
     ]
    },
    {
     "name": "stderr",
     "output_type": "stream",
     "text": [
      "[I 2025-09-01 21:39:04,178] A new study created in RDB with name: TurtleMACDTimeZoneFilter_optimization\n"
     ]
    },
    {
     "name": "stdout",
     "output_type": "stream",
     "text": [
      "載入資料庫失敗：'Record does not exist.'，建立新 study\n",
      "警告：當前試驗數量 (0) 較少，建議至少運行 50 次試驗以確保分析可靠性\n"
     ]
    },
    {
     "name": "stderr",
     "output_type": "stream",
     "text": [
      "Best trial: 2. Best value: 8.42395:   0%|          | 0/100 [00:12<?, ?it/s]"
     ]
    },
    {
     "name": "stdout",
     "output_type": "stream",
     "text": [
      "[I 2025-09-01 21:39:16,669] Trial 2 finished with value: 3.9468221356303466 and parameters: {'atr_period': 28, 'fast_period': 11, 'slow_period': 33, 'signal_period': 5, 'high_low_lookback': 18, 'atr_multiplier_sl': 2.6}. Best is trial 2 with value: 3.9468221356303466.\n",
      "[I 2025-09-01 21:39:16,736] Trial 3 finished with value: 8.18568348320555 and parameters: {'atr_period': 16, 'fast_period': 17, 'slow_period': 28, 'signal_period': 11, 'high_low_lookback': 30, 'atr_multiplier_sl': 1.0}. Best is trial 3 with value: 8.18568348320555.\n",
      "[I 2025-09-01 21:39:16,803] Trial 0 finished with value: 8.423952897298697 and parameters: {'atr_period': 28, 'fast_period': 18, 'slow_period': 32, 'signal_period': 13, 'high_low_lookback': 25, 'atr_multiplier_sl': 2.0}. Best is trial 0 with value: 8.423952897298697.\n",
      "[I 2025-09-01 21:39:16,838] Trial 1 finished with value: 9.451071847387752 and parameters: {'atr_period': 14, 'fast_period': 16, 'slow_period': 34, 'signal_period': 13, 'high_low_lookback': 28, 'atr_multiplier_sl': 2.5}. Best is trial 1 with value: 9.451071847387752.\n"
     ]
    },
    {
     "name": "stderr",
     "output_type": "stream",
     "text": [
      "Best trial: 1. Best value: 9.45107:   4%|▍         | 4/100 [00:25<20:16, 12.67s/it]"
     ]
    },
    {
     "name": "stdout",
     "output_type": "stream",
     "text": [
      "[I 2025-09-01 21:39:29,106] Trial 5 finished with value: 7.909635425662894 and parameters: {'atr_period': 12, 'fast_period': 13, 'slow_period': 24, 'signal_period': 14, 'high_low_lookback': 28, 'atr_multiplier_sl': 2.1}. Best is trial 1 with value: 9.451071847387752.\n",
      "[I 2025-09-01 21:39:29,238] Trial 4 finished with value: 7.288757242356082 and parameters: {'atr_period': 16, 'fast_period': 19, 'slow_period': 22, 'signal_period': 15, 'high_low_lookback': 17, 'atr_multiplier_sl': 2.4000000000000004}. Best is trial 1 with value: 9.451071847387752.\n",
      "[I 2025-09-01 21:39:29,271] Trial 7 finished with value: 8.607500236342643 and parameters: {'atr_period': 29, 'fast_period': 20, 'slow_period': 22, 'signal_period': 11, 'high_low_lookback': 30, 'atr_multiplier_sl': 3.0}. Best is trial 1 with value: 9.451071847387752.\n"
     ]
    },
    {
     "name": "stderr",
     "output_type": "stream",
     "text": [
      "Best trial: 1. Best value: 9.45107:   8%|▊         | 8/100 [00:25<03:40,  2.39s/it]"
     ]
    },
    {
     "name": "stdout",
     "output_type": "stream",
     "text": [
      "[I 2025-09-01 21:39:29,303] Trial 6 finished with value: 7.2552746773518 and parameters: {'atr_period': 25, 'fast_period': 16, 'slow_period': 20, 'signal_period': 11, 'high_low_lookback': 29, 'atr_multiplier_sl': 1.4}. Best is trial 1 with value: 9.451071847387752.\n"
     ]
    },
    {
     "name": "stderr",
     "output_type": "stream",
     "text": [
      "Best trial: 1. Best value: 9.45107:   9%|▉         | 9/100 [00:37<03:37,  2.39s/it]"
     ]
    },
    {
     "name": "stdout",
     "output_type": "stream",
     "text": [
      "[I 2025-09-01 21:39:41,865] Trial 11 finished with value: 8.354602046413715 and parameters: {'atr_period': 27, 'fast_period': 19, 'slow_period': 24, 'signal_period': 12, 'high_low_lookback': 20, 'atr_multiplier_sl': 2.8}. Best is trial 1 with value: 9.451071847387752.\n",
      "[I 2025-09-01 21:39:41,871] Trial 10 finished with value: 6.2925657731038545 and parameters: {'atr_period': 18, 'fast_period': 16, 'slow_period': 33, 'signal_period': 5, 'high_low_lookback': 28, 'atr_multiplier_sl': 1.5}. Best is trial 1 with value: 9.451071847387752.\n",
      "[I 2025-09-01 21:39:41,920] Trial 8 finished with value: 5.107620945151117 and parameters: {'atr_period': 17, 'fast_period': 20, 'slow_period': 28, 'signal_period': 10, 'high_low_lookback': 15, 'atr_multiplier_sl': 1.3}. Best is trial 1 with value: 9.451071847387752.\n",
      "[I 2025-09-01 21:39:41,943] Trial 9 finished with value: 5.6950978269853785 and parameters: {'atr_period': 30, 'fast_period': 12, 'slow_period': 31, 'signal_period': 9, 'high_low_lookback': 25, 'atr_multiplier_sl': 2.6}. Best is trial 1 with value: 9.451071847387752.\n"
     ]
    },
    {
     "name": "stderr",
     "output_type": "stream",
     "text": [
      "Best trial: 13. Best value: 9.48469:  13%|█▎        | 13/100 [00:51<06:02,  4.16s/it]"
     ]
    },
    {
     "name": "stdout",
     "output_type": "stream",
     "text": [
      "[I 2025-09-01 21:39:55,300] Trial 13 finished with value: 9.484685111015168 and parameters: {'atr_period': 22, 'fast_period': 14, 'slow_period': 39, 'signal_period': 8, 'high_low_lookback': 24, 'atr_multiplier_sl': 3.0}. Best is trial 13 with value: 9.484685111015168.\n"
     ]
    },
    {
     "name": "stderr",
     "output_type": "stream",
     "text": [
      "Best trial: 13. Best value: 9.48469:  14%|█▍        | 14/100 [00:53<05:25,  3.78s/it]"
     ]
    },
    {
     "name": "stdout",
     "output_type": "stream",
     "text": [
      "[I 2025-09-01 21:39:57,464] Trial 15 finished with value: 2.7148834633628205 and parameters: {'atr_period': 22, 'fast_period': 14, 'slow_period': 39, 'signal_period': 9, 'high_low_lookback': 10, 'atr_multiplier_sl': 3.0}. Best is trial 13 with value: 9.484685111015168.\n",
      "[I 2025-09-01 21:39:57,542] Trial 14 finished with value: 2.028811749354575 and parameters: {'atr_period': 22, 'fast_period': 14, 'slow_period': 37, 'signal_period': 8, 'high_low_lookback': 11, 'atr_multiplier_sl': 3.0}. Best is trial 13 with value: 9.484685111015168.\n",
      "[I 2025-09-01 21:39:57,572] Trial 12 finished with value: 1.8071618017226796 and parameters: {'atr_period': 22, 'fast_period': 14, 'slow_period': 39, 'signal_period': 9, 'high_low_lookback': 11, 'atr_multiplier_sl': 2.9000000000000004}. Best is trial 13 with value: 9.484685111015168.\n"
     ]
    },
    {
     "name": "stderr",
     "output_type": "stream",
     "text": [
      "Best trial: 16. Best value: 9.51408:  19%|█▉        | 19/100 [01:07<05:05,  3.77s/it]"
     ]
    },
    {
     "name": "stdout",
     "output_type": "stream",
     "text": [
      "[I 2025-09-01 21:40:11,038] Trial 16 finished with value: 9.514079826089452 and parameters: {'atr_period': 22, 'fast_period': 14, 'slow_period': 39, 'signal_period': 8, 'high_low_lookback': 23, 'atr_multiplier_sl': 3.0}. Best is trial 16 with value: 9.514079826089452.\n",
      "[I 2025-09-01 21:40:11,064] Trial 19 finished with value: 7.7179896290465075 and parameters: {'atr_period': 11, 'fast_period': 10, 'slow_period': 36, 'signal_period': 7, 'high_low_lookback': 24, 'atr_multiplier_sl': 2.4000000000000004}. Best is trial 16 with value: 9.514079826089452.\n",
      "[I 2025-09-01 21:40:11,107] Trial 18 finished with value: 7.7179896290465075 and parameters: {'atr_period': 10, 'fast_period': 10, 'slow_period': 36, 'signal_period': 7, 'high_low_lookback': 24, 'atr_multiplier_sl': 2.4000000000000004}. Best is trial 16 with value: 9.514079826089452.\n",
      "[I 2025-09-01 21:40:11,114] Trial 17 finished with value: 7.7179896290465075 and parameters: {'atr_period': 11, 'fast_period': 10, 'slow_period': 36, 'signal_period': 7, 'high_low_lookback': 24, 'atr_multiplier_sl': 2.3}. Best is trial 16 with value: 9.514079826089452.\n"
     ]
    },
    {
     "name": "stderr",
     "output_type": "stream",
     "text": [
      "Best trial: 16. Best value: 9.51408:  21%|██        | 21/100 [01:20<05:13,  3.97s/it]"
     ]
    },
    {
     "name": "stdout",
     "output_type": "stream",
     "text": [
      "[I 2025-09-01 21:40:24,191] Trial 21 finished with value: 6.47908241653513 and parameters: {'atr_period': 25, 'fast_period': 12, 'slow_period': 40, 'signal_period': 6, 'high_low_lookback': 21, 'atr_multiplier_sl': 1.8}. Best is trial 16 with value: 9.514079826089452.\n",
      "[I 2025-09-01 21:40:24,356] Trial 23 finished with value: 8.301739419873329 and parameters: {'atr_period': 25, 'fast_period': 12, 'slow_period': 40, 'signal_period': 8, 'high_low_lookback': 21, 'atr_multiplier_sl': 1.8}. Best is trial 16 with value: 9.514079826089452.\n"
     ]
    },
    {
     "name": "stderr",
     "output_type": "stream",
     "text": [
      "Best trial: 16. Best value: 9.51408:  23%|██▎       | 23/100 [01:20<03:56,  3.07s/it]"
     ]
    },
    {
     "name": "stdout",
     "output_type": "stream",
     "text": [
      "[I 2025-09-01 21:40:24,420] Trial 22 finished with value: 4.494350465988371 and parameters: {'atr_period': 25, 'fast_period': 12, 'slow_period': 40, 'signal_period': 6, 'high_low_lookback': 20, 'atr_multiplier_sl': 1.8}. Best is trial 16 with value: 9.514079826089452.\n",
      "[I 2025-09-01 21:40:24,452] Trial 20 finished with value: 6.786585296196483 and parameters: {'atr_period': 25, 'fast_period': 12, 'slow_period': 39, 'signal_period': 6, 'high_low_lookback': 22, 'atr_multiplier_sl': 1.9}. Best is trial 16 with value: 9.514079826089452.\n"
     ]
    },
    {
     "name": "stderr",
     "output_type": "stream",
     "text": [
      "Best trial: 16. Best value: 9.51408:  27%|██▋       | 27/100 [01:32<04:42,  3.87s/it]"
     ]
    },
    {
     "name": "stdout",
     "output_type": "stream",
     "text": [
      "[I 2025-09-01 21:40:36,932] Trial 24 finished with value: 8.817701855673072 and parameters: {'atr_period': 20, 'fast_period': 15, 'slow_period': 34, 'signal_period': 13, 'high_low_lookback': 27, 'atr_multiplier_sl': 2.7}. Best is trial 16 with value: 9.514079826089452.\n",
      "[I 2025-09-01 21:40:36,955] Trial 26 finished with value: 8.995120056885739 and parameters: {'atr_period': 20, 'fast_period': 15, 'slow_period': 35, 'signal_period': 13, 'high_low_lookback': 27, 'atr_multiplier_sl': 2.7}. Best is trial 16 with value: 9.514079826089452.\n",
      "[I 2025-09-01 21:40:36,987] Trial 27 finished with value: 8.817701855673072 and parameters: {'atr_period': 20, 'fast_period': 15, 'slow_period': 34, 'signal_period': 13, 'high_low_lookback': 27, 'atr_multiplier_sl': 2.7}. Best is trial 16 with value: 9.514079826089452.\n",
      "[I 2025-09-01 21:40:37,018] Trial 25 finished with value: 8.817701855673072 and parameters: {'atr_period': 20, 'fast_period': 15, 'slow_period': 34, 'signal_period': 13, 'high_low_lookback': 27, 'atr_multiplier_sl': 2.7}. Best is trial 16 with value: 9.514079826089452.\n"
     ]
    },
    {
     "name": "stderr",
     "output_type": "stream",
     "text": [
      "Best trial: 28. Best value: 11.4259:  30%|███       | 30/100 [01:45<04:12,  3.61s/it]"
     ]
    },
    {
     "name": "stdout",
     "output_type": "stream",
     "text": [
      "[I 2025-09-01 21:40:49,920] Trial 29 finished with value: 11.246522564684543 and parameters: {'atr_period': 14, 'fast_period': 17, 'slow_period': 29, 'signal_period': 10, 'high_low_lookback': 23, 'atr_multiplier_sl': 2.9000000000000004}. Best is trial 31 with value: 11.425878356378792.\n",
      "[I 2025-09-01 21:40:49,954] Trial 28 finished with value: 11.425878356378792 and parameters: {'atr_period': 23, 'fast_period': 17, 'slow_period': 38, 'signal_period': 10, 'high_low_lookback': 23, 'atr_multiplier_sl': 2.9000000000000004}. Best is trial 28 with value: 11.425878356378792.\n",
      "[I 2025-09-01 21:40:49,994] Trial 30 finished with value: 11.425878356378792 and parameters: {'atr_period': 14, 'fast_period': 17, 'slow_period': 38, 'signal_period': 10, 'high_low_lookback': 23, 'atr_multiplier_sl': 2.9000000000000004}. Best is trial 28 with value: 11.425878356378792.\n",
      "[I 2025-09-01 21:40:50,004] Trial 31 finished with value: 11.425878356378792 and parameters: {'atr_period': 14, 'fast_period': 17, 'slow_period': 38, 'signal_period': 10, 'high_low_lookback': 23, 'atr_multiplier_sl': 2.2}. Best is trial 31 with value: 11.425878356378792.\n"
     ]
    },
    {
     "name": "stderr",
     "output_type": "stream",
     "text": [
      "Best trial: 28. Best value: 11.4259:  32%|███▏      | 32/100 [01:58<02:50,  2.50s/it]"
     ]
    },
    {
     "name": "stdout",
     "output_type": "stream",
     "text": [
      "[I 2025-09-01 21:41:03,032] Trial 32 finished with value: 11.052250842897275 and parameters: {'atr_period': 14, 'fast_period': 18, 'slow_period': 28, 'signal_period': 10, 'high_low_lookback': 22, 'atr_multiplier_sl': 2.1}. Best is trial 28 with value: 11.425878356378792.\n"
     ]
    },
    {
     "name": "stderr",
     "output_type": "stream",
     "text": [
      "Best trial: 28. Best value: 11.4259:  34%|███▍      | 34/100 [01:59<03:46,  3.44s/it]"
     ]
    },
    {
     "name": "stdout",
     "output_type": "stream",
     "text": [
      "[I 2025-09-01 21:41:03,223] Trial 35 finished with value: 11.297963694752502 and parameters: {'atr_period': 14, 'fast_period': 18, 'slow_period': 27, 'signal_period': 10, 'high_low_lookback': 22, 'atr_multiplier_sl': 2.1}. Best is trial 28 with value: 11.425878356378792.\n",
      "[I 2025-09-01 21:41:03,288] Trial 33 finished with value: 11.036166482109994 and parameters: {'atr_period': 13, 'fast_period': 18, 'slow_period': 29, 'signal_period': 10, 'high_low_lookback': 22, 'atr_multiplier_sl': 2.2}. Best is trial 28 with value: 11.425878356378792.\n",
      "[I 2025-09-01 21:41:03,289] Trial 34 finished with value: 7.302605585581087 and parameters: {'atr_period': 14, 'fast_period': 18, 'slow_period': 29, 'signal_period': 10, 'high_low_lookback': 18, 'atr_multiplier_sl': 2.2}. Best is trial 28 with value: 11.425878356378792.\n"
     ]
    },
    {
     "name": "stderr",
     "output_type": "stream",
     "text": [
      "Best trial: 28. Best value: 11.4259:  37%|███▋      | 37/100 [02:11<03:50,  3.66s/it]"
     ]
    },
    {
     "name": "stdout",
     "output_type": "stream",
     "text": [
      "[I 2025-09-01 21:41:15,517] Trial 36 finished with value: 6.750645692875114 and parameters: {'atr_period': 16, 'fast_period': 17, 'slow_period': 25, 'signal_period': 12, 'high_low_lookback': 19, 'atr_multiplier_sl': 2.5}. Best is trial 28 with value: 11.425878356378792.\n",
      "[I 2025-09-01 21:41:15,586] Trial 37 finished with value: 8.627079303472675 and parameters: {'atr_period': 16, 'fast_period': 17, 'slow_period': 37, 'signal_period': 12, 'high_low_lookback': 25, 'atr_multiplier_sl': 1.6}. Best is trial 28 with value: 11.425878356378792.\n",
      "[I 2025-09-01 21:41:15,651] Trial 39 finished with value: 7.513975188641401 and parameters: {'atr_period': 16, 'fast_period': 17, 'slow_period': 26, 'signal_period': 12, 'high_low_lookback': 19, 'atr_multiplier_sl': 1.6}. Best is trial 28 with value: 11.425878356378792.\n",
      "[I 2025-09-01 21:41:15,683] Trial 38 finished with value: 7.027038191563177 and parameters: {'atr_period': 16, 'fast_period': 17, 'slow_period': 25, 'signal_period': 12, 'high_low_lookback': 18, 'atr_multiplier_sl': 2.5}. Best is trial 28 with value: 11.425878356378792.\n"
     ]
    },
    {
     "name": "stderr",
     "output_type": "stream",
     "text": [
      "Best trial: 28. Best value: 11.4259:  40%|████      | 40/100 [02:23<03:39,  3.66s/it]"
     ]
    },
    {
     "name": "stdout",
     "output_type": "stream",
     "text": [
      "[I 2025-09-01 21:41:27,852] Trial 42 finished with value: 4.982058251257699 and parameters: {'atr_period': 18, 'fast_period': 19, 'slow_period': 31, 'signal_period': 11, 'high_low_lookback': 16, 'atr_multiplier_sl': 1.2}. Best is trial 28 with value: 11.425878356378792.\n",
      "[I 2025-09-01 21:41:27,972] Trial 43 finished with value: 7.868929678802033 and parameters: {'atr_period': 18, 'fast_period': 19, 'slow_period': 31, 'signal_period': 9, 'high_low_lookback': 26, 'atr_multiplier_sl': 1.0}. Best is trial 28 with value: 11.425878356378792.\n",
      "[I 2025-09-01 21:41:27,983] Trial 41 finished with value: 8.189367821082225 and parameters: {'atr_period': 13, 'fast_period': 19, 'slow_period': 32, 'signal_period': 11, 'high_low_lookback': 26, 'atr_multiplier_sl': 1.0}. Best is trial 28 with value: 11.425878356378792.\n",
      "[I 2025-09-01 21:41:28,005] Trial 40 finished with value: 5.231902329856029 and parameters: {'atr_period': 18, 'fast_period': 19, 'slow_period': 32, 'signal_period': 11, 'high_low_lookback': 15, 'atr_multiplier_sl': 1.0}. Best is trial 28 with value: 11.425878356378792.\n"
     ]
    },
    {
     "name": "stderr",
     "output_type": "stream",
     "text": [
      "Best trial: 46. Best value: 11.627:  47%|████▋     | 47/100 [02:36<02:55,  3.31s/it] "
     ]
    },
    {
     "name": "stdout",
     "output_type": "stream",
     "text": [
      "[I 2025-09-01 21:41:40,281] Trial 47 finished with value: 11.62702365123454 and parameters: {'atr_period': 14, 'fast_period': 16, 'slow_period': 37, 'signal_period': 10, 'high_low_lookback': 23, 'atr_multiplier_sl': 2.8}. Best is trial 46 with value: 11.62702365123454.\n",
      "[I 2025-09-01 21:41:40,286] Trial 44 finished with value: 9.74934756705786 and parameters: {'atr_period': 14, 'fast_period': 16, 'slow_period': 27, 'signal_period': 10, 'high_low_lookback': 23, 'atr_multiplier_sl': 2.8}. Best is trial 46 with value: 11.62702365123454.\n",
      "[I 2025-09-01 21:41:40,325] Trial 46 finished with value: 11.62702365123454 and parameters: {'atr_period': 14, 'fast_period': 16, 'slow_period': 37, 'signal_period': 10, 'high_low_lookback': 23, 'atr_multiplier_sl': 2.8}. Best is trial 46 with value: 11.62702365123454.\n",
      "[I 2025-09-01 21:41:40,351] Trial 45 finished with value: 9.74934756705786 and parameters: {'atr_period': 14, 'fast_period': 16, 'slow_period': 27, 'signal_period': 10, 'high_low_lookback': 23, 'atr_multiplier_sl': 2.8}. Best is trial 46 with value: 11.62702365123454.\n"
     ]
    },
    {
     "name": "stderr",
     "output_type": "stream",
     "text": [
      "Best trial: 48. Best value: 11.7018:  51%|█████     | 51/100 [02:48<02:25,  2.96s/it]"
     ]
    },
    {
     "name": "stdout",
     "output_type": "stream",
     "text": [
      "[I 2025-09-01 21:41:52,683] Trial 49 finished with value: 11.701805980744666 and parameters: {'atr_period': 12, 'fast_period': 16, 'slow_period': 38, 'signal_period': 9, 'high_low_lookback': 21, 'atr_multiplier_sl': 2.9000000000000004}. Best is trial 49 with value: 11.701805980744666.\n",
      "[I 2025-09-01 21:41:52,716] Trial 51 finished with value: 11.701805980744666 and parameters: {'atr_period': 12, 'fast_period': 16, 'slow_period': 38, 'signal_period': 9, 'high_low_lookback': 21, 'atr_multiplier_sl': 2.9000000000000004}. Best is trial 49 with value: 11.701805980744666.\n",
      "[I 2025-09-01 21:41:52,720] Trial 50 finished with value: 11.701805980744666 and parameters: {'atr_period': 12, 'fast_period': 16, 'slow_period': 38, 'signal_period': 9, 'high_low_lookback': 21, 'atr_multiplier_sl': 2.6}. Best is trial 50 with value: 11.701805980744666.\n",
      "[I 2025-09-01 21:41:52,743] Trial 48 finished with value: 11.701805980744666 and parameters: {'atr_period': 12, 'fast_period': 16, 'slow_period': 38, 'signal_period': 9, 'high_low_lookback': 21, 'atr_multiplier_sl': 2.6}. Best is trial 48 with value: 11.701805980744666.\n"
     ]
    },
    {
     "name": "stderr",
     "output_type": "stream",
     "text": [
      "Best trial: 48. Best value: 11.7018:  52%|█████▏    | 52/100 [03:01<02:22,  2.96s/it]"
     ]
    },
    {
     "name": "stdout",
     "output_type": "stream",
     "text": [
      "[I 2025-09-01 21:42:05,534] Trial 55 finished with value: 8.243502653807244 and parameters: {'atr_period': 12, 'fast_period': 16, 'slow_period': 37, 'signal_period': 9, 'high_low_lookback': 20, 'atr_multiplier_sl': 2.6}. Best is trial 48 with value: 11.701805980744666.\n",
      "[I 2025-09-01 21:42:05,610] Trial 53 finished with value: 11.701805980744666 and parameters: {'atr_period': 12, 'fast_period': 16, 'slow_period': 37, 'signal_period': 9, 'high_low_lookback': 21, 'atr_multiplier_sl': 2.8}. Best is trial 48 with value: 11.701805980744666.\n",
      "[I 2025-09-01 21:42:05,707] Trial 54 finished with value: 8.243502653807244 and parameters: {'atr_period': 12, 'fast_period': 16, 'slow_period': 37, 'signal_period': 9, 'high_low_lookback': 20, 'atr_multiplier_sl': 2.6}. Best is trial 48 with value: 11.701805980744666.\n"
     ]
    },
    {
     "name": "stderr",
     "output_type": "stream",
     "text": [
      "Best trial: 48. Best value: 11.7018:  55%|█████▌    | 55/100 [03:01<02:50,  3.78s/it]"
     ]
    },
    {
     "name": "stdout",
     "output_type": "stream",
     "text": [
      "[I 2025-09-01 21:42:05,753] Trial 52 finished with value: 8.243502653807244 and parameters: {'atr_period': 12, 'fast_period': 16, 'slow_period': 37, 'signal_period': 9, 'high_low_lookback': 20, 'atr_multiplier_sl': 2.6}. Best is trial 48 with value: 11.701805980744666.\n"
     ]
    },
    {
     "name": "stderr",
     "output_type": "stream",
     "text": [
      "Best trial: 48. Best value: 11.7018:  59%|█████▉    | 59/100 [03:14<02:42,  3.97s/it]"
     ]
    },
    {
     "name": "stdout",
     "output_type": "stream",
     "text": [
      "[I 2025-09-01 21:42:19,001] Trial 59 finished with value: 9.064379284950256 and parameters: {'atr_period': 10, 'fast_period': 15, 'slow_period': 35, 'signal_period': 8, 'high_low_lookback': 21, 'atr_multiplier_sl': 2.9000000000000004}. Best is trial 48 with value: 11.701805980744666.\n",
      "[I 2025-09-01 21:42:19,027] Trial 58 finished with value: 9.064379284950256 and parameters: {'atr_period': 10, 'fast_period': 15, 'slow_period': 35, 'signal_period': 8, 'high_low_lookback': 21, 'atr_multiplier_sl': 2.9000000000000004}. Best is trial 48 with value: 11.701805980744666.\n",
      "[I 2025-09-01 21:42:19,037] Trial 57 finished with value: 9.064379284950256 and parameters: {'atr_period': 10, 'fast_period': 15, 'slow_period': 35, 'signal_period': 8, 'high_low_lookback': 21, 'atr_multiplier_sl': 2.9000000000000004}. Best is trial 48 with value: 11.701805980744666.\n",
      "[I 2025-09-01 21:42:19,059] Trial 56 finished with value: 9.188955614987904 and parameters: {'atr_period': 10, 'fast_period': 16, 'slow_period': 35, 'signal_period': 8, 'high_low_lookback': 21, 'atr_multiplier_sl': 2.9000000000000004}. Best is trial 48 with value: 11.701805980744666.\n"
     ]
    },
    {
     "name": "stderr",
     "output_type": "stream",
     "text": [
      "Best trial: 48. Best value: 11.7018:  60%|██████    | 60/100 [03:27<02:38,  3.97s/it]"
     ]
    },
    {
     "name": "stdout",
     "output_type": "stream",
     "text": [
      "[I 2025-09-01 21:42:31,530] Trial 61 finished with value: 6.170341538512583 and parameters: {'atr_period': 11, 'fast_period': 14, 'slow_period': 38, 'signal_period': 9, 'high_low_lookback': 19, 'atr_multiplier_sl': 2.4000000000000004}. Best is trial 48 with value: 11.701805980744666.\n",
      "[I 2025-09-01 21:42:31,705] Trial 63 finished with value: 6.170341538512583 and parameters: {'atr_period': 11, 'fast_period': 14, 'slow_period': 38, 'signal_period': 9, 'high_low_lookback': 19, 'atr_multiplier_sl': 2.4000000000000004}. Best is trial 48 with value: 11.701805980744666.\n"
     ]
    },
    {
     "name": "stderr",
     "output_type": "stream",
     "text": [
      "Best trial: 48. Best value: 11.7018:  63%|██████▎   | 63/100 [03:27<02:16,  3.69s/it]"
     ]
    },
    {
     "name": "stdout",
     "output_type": "stream",
     "text": [
      "[I 2025-09-01 21:42:31,737] Trial 62 finished with value: 6.170341538512583 and parameters: {'atr_period': 11, 'fast_period': 14, 'slow_period': 38, 'signal_period': 9, 'high_low_lookback': 19, 'atr_multiplier_sl': 2.4000000000000004}. Best is trial 48 with value: 11.701805980744666.\n",
      "[I 2025-09-01 21:42:31,741] Trial 60 finished with value: 5.929349277522983 and parameters: {'atr_period': 11, 'fast_period': 13, 'slow_period': 38, 'signal_period': 9, 'high_low_lookback': 19, 'atr_multiplier_sl': 2.4000000000000004}. Best is trial 48 with value: 11.701805980744666.\n"
     ]
    },
    {
     "name": "stderr",
     "output_type": "stream",
     "text": [
      "Best trial: 48. Best value: 11.7018:  65%|██████▌   | 65/100 [03:40<02:03,  3.53s/it]"
     ]
    },
    {
     "name": "stdout",
     "output_type": "stream",
     "text": [
      "[I 2025-09-01 21:42:44,469] Trial 64 finished with value: 11.085610132723627 and parameters: {'atr_period': 13, 'fast_period': 16, 'slow_period': 36, 'signal_period': 11, 'high_low_lookback': 22, 'atr_multiplier_sl': 2.8}. Best is trial 48 with value: 11.701805980744666.\n",
      "[I 2025-09-01 21:42:44,477] Trial 66 finished with value: 11.085610132723627 and parameters: {'atr_period': 13, 'fast_period': 16, 'slow_period': 36, 'signal_period': 11, 'high_low_lookback': 22, 'atr_multiplier_sl': 2.8}. Best is trial 48 with value: 11.701805980744666.\n",
      "[I 2025-09-01 21:42:44,611] Trial 67 finished with value: 11.085610132723627 and parameters: {'atr_period': 13, 'fast_period': 16, 'slow_period': 36, 'signal_period': 11, 'high_low_lookback': 22, 'atr_multiplier_sl': 2.8}. Best is trial 48 with value: 11.701805980744666.\n",
      "[I 2025-09-01 21:42:44,619] Trial 65 finished with value: 8.031341128954303 and parameters: {'atr_period': 13, 'fast_period': 16, 'slow_period': 36, 'signal_period': 11, 'high_low_lookback': 25, 'atr_multiplier_sl': 2.8}. Best is trial 48 with value: 11.701805980744666.\n"
     ]
    },
    {
     "name": "stderr",
     "output_type": "stream",
     "text": [
      "Best trial: 48. Best value: 11.7018:  68%|██████▊   | 68/100 [03:53<01:53,  3.53s/it]"
     ]
    },
    {
     "name": "stdout",
     "output_type": "stream",
     "text": [
      "[I 2025-09-01 21:42:57,425] Trial 70 finished with value: 4.890508364212095 and parameters: {'atr_period': 15, 'fast_period': 15, 'slow_period': 40, 'signal_period': 7, 'high_low_lookback': 17, 'atr_multiplier_sl': 3.0}. Best is trial 48 with value: 11.701805980744666.\n",
      "[I 2025-09-01 21:42:57,543] Trial 69 finished with value: 8.543240525890845 and parameters: {'atr_period': 15, 'fast_period': 15, 'slow_period': 40, 'signal_period': 15, 'high_low_lookback': 17, 'atr_multiplier_sl': 3.0}. Best is trial 48 with value: 11.701805980744666.\n",
      "[I 2025-09-01 21:42:57,571] Trial 71 finished with value: 8.218670865080675 and parameters: {'atr_period': 15, 'fast_period': 15, 'slow_period': 40, 'signal_period': 7, 'high_low_lookback': 24, 'atr_multiplier_sl': 3.0}. Best is trial 48 with value: 11.701805980744666.\n",
      "[I 2025-09-01 21:42:57,602] Trial 68 finished with value: 8.218670865080675 and parameters: {'atr_period': 12, 'fast_period': 15, 'slow_period': 40, 'signal_period': 7, 'high_low_lookback': 24, 'atr_multiplier_sl': 3.0}. Best is trial 48 with value: 11.701805980744666.\n"
     ]
    },
    {
     "name": "stderr",
     "output_type": "stream",
     "text": [
      "Best trial: 48. Best value: 11.7018:  75%|███████▌  | 75/100 [04:06<01:24,  3.37s/it]"
     ]
    },
    {
     "name": "stdout",
     "output_type": "stream",
     "text": [
      "[I 2025-09-01 21:43:10,365] Trial 75 finished with value: 10.551664830306267 and parameters: {'atr_period': 23, 'fast_period': 17, 'slow_period': 39, 'signal_period': 9, 'high_low_lookback': 21, 'atr_multiplier_sl': 2.7}. Best is trial 48 with value: 11.701805980744666.\n",
      "[I 2025-09-01 21:43:10,375] Trial 73 finished with value: 10.551664830306267 and parameters: {'atr_period': 23, 'fast_period': 17, 'slow_period': 39, 'signal_period': 9, 'high_low_lookback': 21, 'atr_multiplier_sl': 2.7}. Best is trial 48 with value: 11.701805980744666.\n",
      "[I 2025-09-01 21:43:10,415] Trial 74 finished with value: 10.551664830306267 and parameters: {'atr_period': 24, 'fast_period': 17, 'slow_period': 39, 'signal_period': 9, 'high_low_lookback': 21, 'atr_multiplier_sl': 2.7}. Best is trial 48 with value: 11.701805980744666.\n",
      "[I 2025-09-01 21:43:10,446] Trial 72 finished with value: 10.551664830306267 and parameters: {'atr_period': 23, 'fast_period': 17, 'slow_period': 39, 'signal_period': 9, 'high_low_lookback': 21, 'atr_multiplier_sl': 2.7}. Best is trial 48 with value: 11.701805980744666.\n"
     ]
    },
    {
     "name": "stderr",
     "output_type": "stream",
     "text": [
      "Best trial: 48. Best value: 11.7018:  76%|███████▌  | 76/100 [04:19<01:20,  3.37s/it]"
     ]
    },
    {
     "name": "stdout",
     "output_type": "stream",
     "text": [
      "[I 2025-09-01 21:43:23,269] Trial 77 finished with value: 11.178359040254435 and parameters: {'atr_period': 26, 'fast_period': 18, 'slow_period': 37, 'signal_period': 10, 'high_low_lookback': 23, 'atr_multiplier_sl': 2.6}. Best is trial 48 with value: 11.701805980744666.\n"
     ]
    },
    {
     "name": "stderr",
     "output_type": "stream",
     "text": [
      "Best trial: 48. Best value: 11.7018:  78%|███████▊  | 78/100 [04:21<01:09,  3.18s/it]"
     ]
    },
    {
     "name": "stdout",
     "output_type": "stream",
     "text": [
      "[I 2025-09-01 21:43:25,752] Trial 76 finished with value: 11.178359040254435 and parameters: {'atr_period': 21, 'fast_period': 18, 'slow_period': 37, 'signal_period': 10, 'high_low_lookback': 23, 'atr_multiplier_sl': 2.5}. Best is trial 48 with value: 11.701805980744666.\n",
      "[I 2025-09-01 21:43:25,820] Trial 79 finished with value: 11.178359040254435 and parameters: {'atr_period': 21, 'fast_period': 18, 'slow_period': 37, 'signal_period': 10, 'high_low_lookback': 23, 'atr_multiplier_sl': 2.5}. Best is trial 48 with value: 11.701805980744666.\n",
      "[I 2025-09-01 21:43:25,824] Trial 78 finished with value: 11.178359040254435 and parameters: {'atr_period': 27, 'fast_period': 18, 'slow_period': 37, 'signal_period': 10, 'high_low_lookback': 23, 'atr_multiplier_sl': 2.5}. Best is trial 48 with value: 11.701805980744666.\n"
     ]
    },
    {
     "name": "stderr",
     "output_type": "stream",
     "text": [
      "Best trial: 48. Best value: 11.7018:  80%|████████  | 80/100 [04:33<01:03,  3.18s/it]"
     ]
    },
    {
     "name": "stdout",
     "output_type": "stream",
     "text": [
      "[I 2025-09-01 21:43:37,642] Trial 80 finished with value: 2.3311089340879283 and parameters: {'atr_period': 21, 'fast_period': 16, 'slow_period': 38, 'signal_period': 8, 'high_low_lookback': 13, 'atr_multiplier_sl': 2.9000000000000004}. Best is trial 48 with value: 11.701805980744666.\n"
     ]
    },
    {
     "name": "stderr",
     "output_type": "stream",
     "text": [
      "Best trial: 48. Best value: 11.7018:  83%|████████▎ | 83/100 [04:35<00:54,  3.21s/it]"
     ]
    },
    {
     "name": "stdout",
     "output_type": "stream",
     "text": [
      "[I 2025-09-01 21:43:39,936] Trial 82 finished with value: 5.868901811734805 and parameters: {'atr_period': 12, 'fast_period': 16, 'slow_period': 22, 'signal_period': 8, 'high_low_lookback': 20, 'atr_multiplier_sl': 2.9000000000000004}. Best is trial 48 with value: 11.701805980744666.\n",
      "[I 2025-09-01 21:43:39,963] Trial 81 finished with value: 6.863278278892998 and parameters: {'atr_period': 12, 'fast_period': 16, 'slow_period': 38, 'signal_period': 8, 'high_low_lookback': 20, 'atr_multiplier_sl': 2.9000000000000004}. Best is trial 48 with value: 11.701805980744666.\n",
      "[I 2025-09-01 21:43:39,996] Trial 83 finished with value: 5.868901811734805 and parameters: {'atr_period': 12, 'fast_period': 16, 'slow_period': 22, 'signal_period': 8, 'high_low_lookback': 20, 'atr_multiplier_sl': 2.9000000000000004}. Best is trial 48 with value: 11.701805980744666.\n"
     ]
    },
    {
     "name": "stderr",
     "output_type": "stream",
     "text": [
      "Best trial: 48. Best value: 11.7018:  84%|████████▍ | 84/100 [04:48<00:51,  3.21s/it]"
     ]
    },
    {
     "name": "stdout",
     "output_type": "stream",
     "text": [
      "[I 2025-09-01 21:43:52,536] Trial 84 finished with value: 11.474072983649073 and parameters: {'atr_period': 12, 'fast_period': 17, 'slow_period': 38, 'signal_period': 10, 'high_low_lookback': 22, 'atr_multiplier_sl': 2.9000000000000004}. Best is trial 48 with value: 11.701805980744666.\n"
     ]
    },
    {
     "name": "stderr",
     "output_type": "stream",
     "text": [
      "Best trial: 48. Best value: 11.7018:  87%|████████▋ | 87/100 [04:48<00:46,  3.57s/it]"
     ]
    },
    {
     "name": "stdout",
     "output_type": "stream",
     "text": [
      "[I 2025-09-01 21:43:52,736] Trial 86 finished with value: 11.354352667877965 and parameters: {'atr_period': 17, 'fast_period': 17, 'slow_period': 38, 'signal_period': 10, 'high_low_lookback': 24, 'atr_multiplier_sl': 2.8}. Best is trial 48 with value: 11.701805980744666.\n",
      "[I 2025-09-01 21:43:52,773] Trial 85 finished with value: 11.354352667877965 and parameters: {'atr_period': 15, 'fast_period': 17, 'slow_period': 38, 'signal_period': 10, 'high_low_lookback': 24, 'atr_multiplier_sl': 2.8}. Best is trial 48 with value: 11.701805980744666.\n",
      "[I 2025-09-01 21:43:52,778] Trial 87 finished with value: 11.354352667877965 and parameters: {'atr_period': 17, 'fast_period': 17, 'slow_period': 38, 'signal_period': 10, 'high_low_lookback': 24, 'atr_multiplier_sl': 2.8}. Best is trial 48 with value: 11.701805980744666.\n"
     ]
    },
    {
     "name": "stderr",
     "output_type": "stream",
     "text": [
      "Best trial: 48. Best value: 11.7018:  89%|████████▉ | 89/100 [05:01<00:37,  3.44s/it]"
     ]
    },
    {
     "name": "stdout",
     "output_type": "stream",
     "text": [
      "[I 2025-09-01 21:44:05,614] Trial 90 finished with value: 11.56925135043597 and parameters: {'atr_period': 11, 'fast_period': 16, 'slow_period': 39, 'signal_period': 9, 'high_low_lookback': 22, 'atr_multiplier_sl': 2.6}. Best is trial 48 with value: 11.701805980744666.\n",
      "[I 2025-09-01 21:44:05,625] Trial 89 finished with value: 11.56925135043597 and parameters: {'atr_period': 11, 'fast_period': 16, 'slow_period': 39, 'signal_period': 9, 'high_low_lookback': 22, 'atr_multiplier_sl': 2.6}. Best is trial 48 with value: 11.701805980744666.\n",
      "[I 2025-09-01 21:44:05,723] Trial 91 finished with value: 11.56925135043597 and parameters: {'atr_period': 11, 'fast_period': 16, 'slow_period': 39, 'signal_period': 9, 'high_low_lookback': 22, 'atr_multiplier_sl': 2.6}. Best is trial 48 with value: 11.701805980744666.\n",
      "[I 2025-09-01 21:44:05,758] Trial 88 finished with value: 11.56925135043597 and parameters: {'atr_period': 11, 'fast_period': 16, 'slow_period': 39, 'signal_period': 9, 'high_low_lookback': 22, 'atr_multiplier_sl': 2.6}. Best is trial 48 with value: 11.701805980744666.\n"
     ]
    },
    {
     "name": "stderr",
     "output_type": "stream",
     "text": [
      "Best trial: 48. Best value: 11.7018:  92%|█████████▏| 92/100 [05:14<00:27,  3.44s/it]"
     ]
    },
    {
     "name": "stdout",
     "output_type": "stream",
     "text": [
      "[I 2025-09-01 21:44:18,410] Trial 94 finished with value: 11.56925135043597 and parameters: {'atr_period': 10, 'fast_period': 16, 'slow_period': 39, 'signal_period': 9, 'high_low_lookback': 22, 'atr_multiplier_sl': 2.6}. Best is trial 48 with value: 11.701805980744666.\n",
      "[I 2025-09-01 21:44:18,478] Trial 93 finished with value: 11.56925135043597 and parameters: {'atr_period': 10, 'fast_period': 16, 'slow_period': 39, 'signal_period': 9, 'high_low_lookback': 22, 'atr_multiplier_sl': 2.3}. Best is trial 48 with value: 11.701805980744666.\n",
      "[I 2025-09-01 21:44:18,552] Trial 95 finished with value: 11.56925135043597 and parameters: {'atr_period': 10, 'fast_period': 16, 'slow_period': 39, 'signal_period': 9, 'high_low_lookback': 22, 'atr_multiplier_sl': 2.6}. Best is trial 48 with value: 11.701805980744666.\n",
      "[I 2025-09-01 21:44:18,587] Trial 92 finished with value: 11.56925135043597 and parameters: {'atr_period': 10, 'fast_period': 16, 'slow_period': 39, 'signal_period': 9, 'high_low_lookback': 22, 'atr_multiplier_sl': 2.3}. Best is trial 48 with value: 11.701805980744666.\n"
     ]
    },
    {
     "name": "stderr",
     "output_type": "stream",
     "text": [
      "Best trial: 48. Best value: 11.7018:  97%|█████████▋| 97/100 [05:26<00:10,  3.46s/it]"
     ]
    },
    {
     "name": "stdout",
     "output_type": "stream",
     "text": [
      "[I 2025-09-01 21:44:30,837] Trial 98 finished with value: 7.236672466160831 and parameters: {'atr_period': 11, 'fast_period': 15, 'slow_period': 36, 'signal_period': 9, 'high_low_lookback': 25, 'atr_multiplier_sl': 2.7}. Best is trial 48 with value: 11.701805980744666.\n",
      "[I 2025-09-01 21:44:30,916] Trial 97 finished with value: 6.156291508527158 and parameters: {'atr_period': 11, 'fast_period': 15, 'slow_period': 33, 'signal_period': 9, 'high_low_lookback': 18, 'atr_multiplier_sl': 2.7}. Best is trial 48 with value: 11.701805980744666.\n",
      "[I 2025-09-01 21:44:30,947] Trial 96 finished with value: 8.880398219874614 and parameters: {'atr_period': 11, 'fast_period': 15, 'slow_period': 33, 'signal_period': 9, 'high_low_lookback': 21, 'atr_multiplier_sl': 2.7}. Best is trial 48 with value: 11.701805980744666.\n",
      "[I 2025-09-01 21:44:30,980] Trial 99 finished with value: 7.236672466160831 and parameters: {'atr_period': 11, 'fast_period': 15, 'slow_period': 36, 'signal_period': 9, 'high_low_lookback': 25, 'atr_multiplier_sl': 2.7}. Best is trial 48 with value: 11.701805980744666.\n"
     ]
    },
    {
     "name": "stderr",
     "output_type": "stream",
     "text": [
      "Best trial: 48. Best value: 11.7018: 100%|██████████| 100/100 [05:26<00:00,  3.27s/it]\n"
     ]
    },
    {
     "name": "stdout",
     "output_type": "stream",
     "text": [
      "\n",
      "Optimization completed!\n",
      "Best composite metric: 11.7018\n",
      "Best parameters:\n",
      "  atr_period: 12\n",
      "  fast_period: 16\n",
      "  slow_period: 38\n",
      "  signal_period: 9\n",
      "  high_low_lookback: 21\n",
      "  atr_multiplier_sl: 2.6\n",
      "\n",
      "All metrics for best trial:\n",
      "  Sharpe Ratio: 3.8598\n",
      "  Sortino Ratio: 14.0238\n",
      "  Max Drawdown: -0.0496\n",
      "  Composite Metric: 11.7018\n",
      "\n",
      "計算加權高原分數...\n",
      "警告：沒有試驗符合門檻條件\n",
      "警告：沒有試驗符合門檻條件，無法繪製高原圖\n",
      "\n",
      "生成 optimize_params vs PPScore 熱力圖...\n",
      "無有效試驗數據！\n",
      "無符合條件的數據可用於 HiPlot 視覺化！\n",
      "沒有符合門檻條件的試驗數據！\n",
      "--------帕雷托分析-----------\n",
      "沒有符合門檻條件的試驗數據！\n"
     ]
    }
   ],
   "source": [
    "from Multi_parameter_optimization_analysis import MPOA\n",
    "from Technicalindicatorstrategy import TurtleMACDTimeZoneFilter\n",
    "from datetime import datetime, timezone\n",
    "import warnings\n",
    "warnings.filterwarnings('ignore')\n",
    "import matplotlib.pyplot as plt\n",
    "\n",
    "# 1. 自動檢測參數\n",
    "# param_suggestions = MPOA.auto_detect_strategy_params(TurtleMACDTimeZoneFilter, 'get_signals')\n",
    "\n",
    "# 2. 創建配置\n",
    "config = MPOA.create_custom_strategy_config(\n",
    "    strategy_module=TurtleMACDTimeZoneFilter,\n",
    "    strategy_function='get_signals',\n",
    "    param_config={\n",
    "        'fixed_params': {'symbol': 'ETHUSDT',\n",
    "                         'interval': '2h',\n",
    "                         'end_time':datetime.now(timezone.utc),\n",
    "                         'limit': 7309,\n",
    "                        },\n",
    "        'optimize_params': {\n",
    "            'atr_period': {'type': 'int', 'min': 10, 'max': 30,'step': 1},\n",
    "            'fast_period': {'type': 'int', 'min': 10, 'max': 20,'step': 1},\n",
    "            'slow_period': {'type': 'int', 'min': 20, 'max': 40,'step': 1},\n",
    "            'signal_period': {'type': 'int', 'min': 5, 'max': 15,'step': 1},\n",
    "            'high_low_lookback': {'type': 'int', 'min': 10, 'max': 30,'step': 1},\n",
    "            'atr_multiplier_sl': {'type': 'float', 'min': 1.0, 'max': 3.0,'step': 0.1}\n",
    "        },\n",
    "        'target_metrics': ['Sharpe Ratio', 'Sortino Ratio', 'Calmar Ratio']\n",
    "    }\n",
    "    )\n",
    "\n",
    "# 3. 運行優化 n_jobs<2(SQLite並行寫入能力有限)\n",
    "optimizer = MPOA.FlexibleStrategyOptimizer(config)\n",
    "study = optimizer.run_optimization(n_trials = 100,n_jobs= -1,study_name=\"TurtleMACDTimeZoneFilter_optimization\")\n",
    "\n",
    "# HiPlot 視覺化\n",
    "optimizer.plot_hiplot(output_html=\"TurtleMACDTimeZoneFilter_optimization_results.html\")\n",
    "\n",
    "# optimize_params 之間的相關性&optimize_params 對 target_metrics 的影響（相關性）\n",
    "corr_results = optimizer.analyze_param_metric_correlations()\n",
    "\n",
    "# 帕雷托分析&多指標相關性分析\n",
    "print(\"--------帕雷托分析-----------\")\n",
    "optimizer.pareto_frontier_analysis()\n"
   ]
  }
 ],
 "metadata": {
  "kernelspec": {
   "display_name": "Vedanta",
   "language": "python",
   "name": "python3"
  },
  "language_info": {
   "codemirror_mode": {
    "name": "ipython",
    "version": 3
   },
   "file_extension": ".py",
   "mimetype": "text/x-python",
   "name": "python",
   "nbconvert_exporter": "python",
   "pygments_lexer": "ipython3",
   "version": "3.10.18"
  }
 },
 "nbformat": 4,
 "nbformat_minor": 5
}
